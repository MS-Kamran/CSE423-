{
  "nbformat": 4,
  "nbformat_minor": 0,
  "metadata": {
    "colab": {
      "provenance": []
    },
    "kernelspec": {
      "name": "python3",
      "display_name": "Python 3"
    },
    "language_info": {
      "name": "python"
    },
    "accelerator": "GPU"
  },
  "cells": [
    {
      "cell_type": "code",
      "source": [
        "!pip install tensorflow==1.15.0"
      ],
      "metadata": {
        "colab": {
          "base_uri": "https://localhost:8080/"
        },
        "id": "L3y0yGFYiWRI",
        "outputId": "09c34145-21e4-4e84-fd45-f0d28b3d6512"
      },
      "execution_count": null,
      "outputs": [
        {
          "output_type": "stream",
          "name": "stdout",
          "text": [
            "Looking in indexes: https://pypi.org/simple, https://us-python.pkg.dev/colab-wheels/public/simple/\n",
            "Requirement already satisfied: tensorflow==1.15.0 in /usr/local/lib/python3.7/dist-packages (1.15.0)\n",
            "Requirement already satisfied: numpy<2.0,>=1.16.0 in /usr/local/lib/python3.7/dist-packages (from tensorflow==1.15.0) (1.19.0)\n",
            "Requirement already satisfied: grpcio>=1.8.6 in /usr/local/lib/python3.7/dist-packages (from tensorflow==1.15.0) (1.47.0)\n",
            "Requirement already satisfied: google-pasta>=0.1.6 in /usr/local/lib/python3.7/dist-packages (from tensorflow==1.15.0) (0.2.0)\n",
            "Requirement already satisfied: protobuf>=3.6.1 in /usr/local/lib/python3.7/dist-packages (from tensorflow==1.15.0) (3.17.3)\n",
            "Requirement already satisfied: opt-einsum>=2.3.2 in /usr/local/lib/python3.7/dist-packages (from tensorflow==1.15.0) (3.3.0)\n",
            "Requirement already satisfied: tensorflow-estimator==1.15.1 in /usr/local/lib/python3.7/dist-packages (from tensorflow==1.15.0) (1.15.1)\n",
            "Requirement already satisfied: termcolor>=1.1.0 in /usr/local/lib/python3.7/dist-packages (from tensorflow==1.15.0) (1.1.0)\n",
            "Requirement already satisfied: absl-py>=0.7.0 in /usr/local/lib/python3.7/dist-packages (from tensorflow==1.15.0) (1.2.0)\n",
            "Requirement already satisfied: six>=1.10.0 in /usr/local/lib/python3.7/dist-packages (from tensorflow==1.15.0) (1.15.0)\n",
            "Requirement already satisfied: keras-applications>=1.0.8 in /usr/local/lib/python3.7/dist-packages (from tensorflow==1.15.0) (1.0.8)\n",
            "Requirement already satisfied: tensorboard<1.16.0,>=1.15.0 in /usr/local/lib/python3.7/dist-packages (from tensorflow==1.15.0) (1.15.0)\n",
            "Requirement already satisfied: keras-preprocessing>=1.0.5 in /usr/local/lib/python3.7/dist-packages (from tensorflow==1.15.0) (1.1.2)\n",
            "Requirement already satisfied: wrapt>=1.11.1 in /usr/local/lib/python3.7/dist-packages (from tensorflow==1.15.0) (1.14.1)\n",
            "Requirement already satisfied: astor>=0.6.0 in /usr/local/lib/python3.7/dist-packages (from tensorflow==1.15.0) (0.8.1)\n",
            "Requirement already satisfied: wheel>=0.26 in /usr/local/lib/python3.7/dist-packages (from tensorflow==1.15.0) (0.37.1)\n",
            "Requirement already satisfied: gast==0.2.2 in /usr/local/lib/python3.7/dist-packages (from tensorflow==1.15.0) (0.2.2)\n",
            "Requirement already satisfied: h5py in /usr/local/lib/python3.7/dist-packages (from keras-applications>=1.0.8->tensorflow==1.15.0) (3.1.0)\n",
            "Requirement already satisfied: werkzeug>=0.11.15 in /usr/local/lib/python3.7/dist-packages (from tensorboard<1.16.0,>=1.15.0->tensorflow==1.15.0) (1.0.1)\n",
            "Requirement already satisfied: markdown>=2.6.8 in /usr/local/lib/python3.7/dist-packages (from tensorboard<1.16.0,>=1.15.0->tensorflow==1.15.0) (3.4.1)\n",
            "Requirement already satisfied: setuptools>=41.0.0 in /usr/local/lib/python3.7/dist-packages (from tensorboard<1.16.0,>=1.15.0->tensorflow==1.15.0) (57.4.0)\n",
            "Requirement already satisfied: importlib-metadata>=4.4 in /usr/local/lib/python3.7/dist-packages (from markdown>=2.6.8->tensorboard<1.16.0,>=1.15.0->tensorflow==1.15.0) (4.12.0)\n",
            "Requirement already satisfied: typing-extensions>=3.6.4 in /usr/local/lib/python3.7/dist-packages (from importlib-metadata>=4.4->markdown>=2.6.8->tensorboard<1.16.0,>=1.15.0->tensorflow==1.15.0) (4.1.1)\n",
            "Requirement already satisfied: zipp>=0.5 in /usr/local/lib/python3.7/dist-packages (from importlib-metadata>=4.4->markdown>=2.6.8->tensorboard<1.16.0,>=1.15.0->tensorflow==1.15.0) (3.8.1)\n",
            "Requirement already satisfied: cached-property in /usr/local/lib/python3.7/dist-packages (from h5py->keras-applications>=1.0.8->tensorflow==1.15.0) (1.5.2)\n"
          ]
        }
      ]
    },
    {
      "cell_type": "code",
      "source": [
        "!pip install -q lucid>=0.2.3\n",
        "!pip install -q moviepy"
      ],
      "metadata": {
        "id": "YXv13t34XX7o"
      },
      "execution_count": null,
      "outputs": []
    },
    {
      "cell_type": "code",
      "source": [
        "!pip install imageio==2.4.1"
      ],
      "metadata": {
        "colab": {
          "base_uri": "https://localhost:8080/"
        },
        "id": "Eg1iOrd_FyrX",
        "outputId": "209fb352-616d-46ad-91bb-d09e70c19b85"
      },
      "execution_count": null,
      "outputs": [
        {
          "output_type": "stream",
          "name": "stdout",
          "text": [
            "Looking in indexes: https://pypi.org/simple, https://us-python.pkg.dev/colab-wheels/public/simple/\n",
            "Requirement already satisfied: imageio==2.4.1 in /usr/local/lib/python3.7/dist-packages (2.4.1)\n",
            "Requirement already satisfied: pillow in /usr/local/lib/python3.7/dist-packages (from imageio==2.4.1) (7.1.2)\n",
            "Requirement already satisfied: numpy in /usr/local/lib/python3.7/dist-packages (from imageio==2.4.1) (1.19.0)\n"
          ]
        }
      ]
    },
    {
      "cell_type": "code",
      "source": [
        "import numpy as np\n",
        "import json\n",
        "import moviepy.editor as mvp\n",
        "from google.colab import files\n",
        "import tensorflow.compat.v1.gfile as gfile\n",
        "import lucid.misc.io.showing as show"
      ],
      "metadata": {
        "id": "MuQfUYd6XYDH"
      },
      "execution_count": null,
      "outputs": []
    },
    {
      "cell_type": "code",
      "source": [
        "from lucid.misc.gl.glcontext import create_opengl_context\n",
        "\n",
        "# Now it's safe to import OpenGL and EGL functions\n",
        "import OpenGL.GL as gl\n",
        "from OpenGL.GLU import *\n",
        "\n",
        "# create_opengl_context() creates GL context that is attached to an\n",
        "# offscreen surface of specified size. Note that rendering to buffers\n",
        "# of different size and format is still possible with OpenGL Framebuffers.\n",
        "#\n",
        "# Users are expected to directly use EGL calls in case more advanced\n",
        "# context management is required.\n",
        "WIDTH, HEIGHT = 800,600\n",
        "create_opengl_context((WIDTH, HEIGHT))\n",
        "    \n",
        "# OpenGL context is available here.\n",
        "\n",
        "print(gl.glGetString(gl.GL_VERSION))\n",
        "print(gl.glGetString(gl.GL_VENDOR)) \n",
        "#print(gl.glGetString(gl.GL_EXTENSIONS))"
      ],
      "metadata": {
        "id": "-dC6f5NBXcNu",
        "colab": {
          "base_uri": "https://localhost:8080/"
        },
        "outputId": "d34eb984-133a-4f6b-ef8b-de248cb9129f"
      },
      "execution_count": null,
      "outputs": [
        {
          "output_type": "stream",
          "name": "stdout",
          "text": [
            "b'4.6.0 NVIDIA 460.32.03'\n",
            "b'NVIDIA Corporation'\n"
          ]
        }
      ]
    },
    {
      "cell_type": "code",
      "source": [
        "# Let's render something!\n",
        "\n",
        "\n",
        "def midpointcircleHW(r, c1,c2):\n",
        "  d=1-r\n",
        "  x=0\n",
        "  y=r\n",
        "  circlePointsHM(x+c1,y+c2)\n",
        "  while (x<y):\n",
        "    if d<0:\n",
        "      d=d+2*x+3\n",
        "      x=x+1\n",
        "    else:\n",
        "      d=d+2*x-2*y+5\n",
        "      x=x+1\n",
        "      y=y-1\n",
        "    circlePointsHM(x+c1,y+c2)\n",
        "\n",
        "\n",
        "    \n",
        "\n"
      ],
      "metadata": {
        "id": "ANi7Wf-hbL9Y"
      },
      "execution_count": null,
      "outputs": []
    },
    {
      "cell_type": "code",
      "source": [
        "def circlePointsHM(x,y):\n",
        "  gl.glPointSize(5)\n",
        "  gl.glColor3f(.156, .197, .161)\n",
        "  x=x/100\n",
        "  y=y/100\n",
        "\n",
        "\n",
        "  gl.glBegin(gl.GL_POINTS)\n",
        "  gl.glVertex2f(x,y)\n",
        "  gl.glVertex2f(y,x)\n",
        "  gl.glVertex2f(y,-x)\n",
        "  gl.glVertex2f(x,-y)\n",
        "  gl.glVertex2f(-x,-y)\n",
        "  gl.glVertex2f(-y,-x)\n",
        "  gl.glVertex2f(-y,x)\n",
        "  gl.glVertex2f(-x,y)\n",
        "  gl.glEnd()"
      ],
      "metadata": {
        "id": "fr74pM4SnqYe"
      },
      "execution_count": null,
      "outputs": []
    },
    {
      "cell_type": "code",
      "source": [
        "\n",
        "midpointcircleHW(40,0,0)\n",
        "midpointcircleHW(20,20,0)\n",
        "midpointcircleHW(20,-20,0)\n",
        "midpointcircleHW(20,0,20)\n",
        "midpointcircleHW(20,0,-20)\n",
        "midpointcircleHW(20,15,15)\n",
        "midpointcircleHW(20,-15,15)\n",
        "midpointcircleHW(20,-15,-15)\n",
        "midpointcircleHW(20,15,-15)\n"
      ],
      "metadata": {
        "id": "y9xW1SFmnqSe"
      },
      "execution_count": null,
      "outputs": []
    },
    {
      "cell_type": "code",
      "source": [
        "img_buf = gl.glReadPixelsub(0, 0, WIDTH, HEIGHT, gl.GL_RGB, gl.GL_UNSIGNED_BYTE)\n",
        "img = np.frombuffer(img_buf, np.uint8).reshape(HEIGHT, WIDTH, 3)[::-1]\n",
        "show.image(img/255.0)"
      ],
      "metadata": {
        "colab": {
          "base_uri": "https://localhost:8080/",
          "height": 621
        },
        "id": "e6JCjyDMyE75",
        "outputId": "07204055-b796-443c-b4ac-2810f700a5e1"
      },
      "execution_count": null,
      "outputs": [
        {
          "output_type": "display_data",
          "data": {
            "text/plain": [
              "<IPython.core.display.HTML object>"
            ],
            "text/html": [
              "<img src=\"data:image/PNG;base64,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\" style=\"image-rendering: pixelated; image-rendering: crisp-edges;\">"
            ]
          },
          "metadata": {}
        }
      ]
    },
    {
      "cell_type": "code",
      "source": [],
      "metadata": {
        "id": "evjH-3l5fE3w"
      },
      "execution_count": null,
      "outputs": []
    }
  ]
}