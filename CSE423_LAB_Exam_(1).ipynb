{
  "nbformat": 4,
  "nbformat_minor": 0,
  "metadata": {
    "colab": {
      "provenance": []
    },
    "kernelspec": {
      "name": "python3",
      "display_name": "Python 3"
    },
    "language_info": {
      "name": "python"
    },
    "accelerator": "GPU"
  },
  "cells": [
    {
      "cell_type": "code",
      "source": [
        "!pip install tensorflow==1.15.0"
      ],
      "metadata": {
        "colab": {
          "base_uri": "https://localhost:8080/"
        },
        "id": "L3y0yGFYiWRI",
        "outputId": "9189865b-332c-44b7-cd6b-aadf744850bf"
      },
      "execution_count": null,
      "outputs": [
        {
          "output_type": "stream",
          "name": "stdout",
          "text": [
            "Looking in indexes: https://pypi.org/simple, https://us-python.pkg.dev/colab-wheels/public/simple/\n",
            "Requirement already satisfied: tensorflow==1.15.0 in /usr/local/lib/python3.7/dist-packages (1.15.0)\n",
            "Requirement already satisfied: gast==0.2.2 in /usr/local/lib/python3.7/dist-packages (from tensorflow==1.15.0) (0.2.2)\n",
            "Requirement already satisfied: wrapt>=1.11.1 in /usr/local/lib/python3.7/dist-packages (from tensorflow==1.15.0) (1.14.1)\n",
            "Requirement already satisfied: astor>=0.6.0 in /usr/local/lib/python3.7/dist-packages (from tensorflow==1.15.0) (0.8.1)\n",
            "Requirement already satisfied: protobuf>=3.6.1 in /usr/local/lib/python3.7/dist-packages (from tensorflow==1.15.0) (3.17.3)\n",
            "Requirement already satisfied: tensorflow-estimator==1.15.1 in /usr/local/lib/python3.7/dist-packages (from tensorflow==1.15.0) (1.15.1)\n",
            "Requirement already satisfied: keras-applications>=1.0.8 in /usr/local/lib/python3.7/dist-packages (from tensorflow==1.15.0) (1.0.8)\n",
            "Requirement already satisfied: wheel>=0.26 in /usr/local/lib/python3.7/dist-packages (from tensorflow==1.15.0) (0.37.1)\n",
            "Requirement already satisfied: grpcio>=1.8.6 in /usr/local/lib/python3.7/dist-packages (from tensorflow==1.15.0) (1.47.0)\n",
            "Requirement already satisfied: absl-py>=0.7.0 in /usr/local/lib/python3.7/dist-packages (from tensorflow==1.15.0) (1.2.0)\n",
            "Requirement already satisfied: numpy<2.0,>=1.16.0 in /usr/local/lib/python3.7/dist-packages (from tensorflow==1.15.0) (1.19.0)\n",
            "Requirement already satisfied: keras-preprocessing>=1.0.5 in /usr/local/lib/python3.7/dist-packages (from tensorflow==1.15.0) (1.1.2)\n",
            "Requirement already satisfied: opt-einsum>=2.3.2 in /usr/local/lib/python3.7/dist-packages (from tensorflow==1.15.0) (3.3.0)\n",
            "Requirement already satisfied: tensorboard<1.16.0,>=1.15.0 in /usr/local/lib/python3.7/dist-packages (from tensorflow==1.15.0) (1.15.0)\n",
            "Requirement already satisfied: six>=1.10.0 in /usr/local/lib/python3.7/dist-packages (from tensorflow==1.15.0) (1.15.0)\n",
            "Requirement already satisfied: termcolor>=1.1.0 in /usr/local/lib/python3.7/dist-packages (from tensorflow==1.15.0) (1.1.0)\n",
            "Requirement already satisfied: google-pasta>=0.1.6 in /usr/local/lib/python3.7/dist-packages (from tensorflow==1.15.0) (0.2.0)\n",
            "Requirement already satisfied: h5py in /usr/local/lib/python3.7/dist-packages (from keras-applications>=1.0.8->tensorflow==1.15.0) (3.1.0)\n",
            "Requirement already satisfied: setuptools>=41.0.0 in /usr/local/lib/python3.7/dist-packages (from tensorboard<1.16.0,>=1.15.0->tensorflow==1.15.0) (57.4.0)\n",
            "Requirement already satisfied: werkzeug>=0.11.15 in /usr/local/lib/python3.7/dist-packages (from tensorboard<1.16.0,>=1.15.0->tensorflow==1.15.0) (1.0.1)\n",
            "Requirement already satisfied: markdown>=2.6.8 in /usr/local/lib/python3.7/dist-packages (from tensorboard<1.16.0,>=1.15.0->tensorflow==1.15.0) (3.4.1)\n",
            "Requirement already satisfied: importlib-metadata>=4.4 in /usr/local/lib/python3.7/dist-packages (from markdown>=2.6.8->tensorboard<1.16.0,>=1.15.0->tensorflow==1.15.0) (4.12.0)\n",
            "Requirement already satisfied: typing-extensions>=3.6.4 in /usr/local/lib/python3.7/dist-packages (from importlib-metadata>=4.4->markdown>=2.6.8->tensorboard<1.16.0,>=1.15.0->tensorflow==1.15.0) (4.1.1)\n",
            "Requirement already satisfied: zipp>=0.5 in /usr/local/lib/python3.7/dist-packages (from importlib-metadata>=4.4->markdown>=2.6.8->tensorboard<1.16.0,>=1.15.0->tensorflow==1.15.0) (3.8.1)\n",
            "Requirement already satisfied: cached-property in /usr/local/lib/python3.7/dist-packages (from h5py->keras-applications>=1.0.8->tensorflow==1.15.0) (1.5.2)\n"
          ]
        }
      ]
    },
    {
      "cell_type": "code",
      "source": [
        "!pip install -q lucid>=0.2.3\n",
        "!pip install -q moviepy"
      ],
      "metadata": {
        "id": "YXv13t34XX7o"
      },
      "execution_count": null,
      "outputs": []
    },
    {
      "cell_type": "code",
      "source": [
        "!pip install imageio==2.4.1"
      ],
      "metadata": {
        "colab": {
          "base_uri": "https://localhost:8080/"
        },
        "id": "Eg1iOrd_FyrX",
        "outputId": "804bfa2a-67db-4354-fa7c-ab3b4d61157b"
      },
      "execution_count": null,
      "outputs": [
        {
          "output_type": "stream",
          "name": "stdout",
          "text": [
            "Looking in indexes: https://pypi.org/simple, https://us-python.pkg.dev/colab-wheels/public/simple/\n",
            "Requirement already satisfied: imageio==2.4.1 in /usr/local/lib/python3.7/dist-packages (2.4.1)\n",
            "Requirement already satisfied: pillow in /usr/local/lib/python3.7/dist-packages (from imageio==2.4.1) (7.1.2)\n",
            "Requirement already satisfied: numpy in /usr/local/lib/python3.7/dist-packages (from imageio==2.4.1) (1.19.0)\n"
          ]
        }
      ]
    },
    {
      "cell_type": "code",
      "source": [
        "import numpy as np\n",
        "import json\n",
        "import moviepy.editor as mvp\n",
        "from google.colab import files\n",
        "import tensorflow.compat.v1.gfile as gfile\n",
        "import lucid.misc.io.showing as show"
      ],
      "metadata": {
        "id": "MuQfUYd6XYDH"
      },
      "execution_count": null,
      "outputs": []
    },
    {
      "cell_type": "code",
      "source": [
        "from lucid.misc.gl.glcontext import create_opengl_context\n",
        "\n",
        "# Now it's safe to import OpenGL and EGL functions\n",
        "import OpenGL.GL as gl\n",
        "from OpenGL.GLU import *\n",
        "\n",
        "# create_opengl_context() creates GL context that is attached to an\n",
        "# offscreen surface of specified size. Note that rendering to buffers\n",
        "# of different size and format is still possible with OpenGL Framebuffers.\n",
        "#\n",
        "# Users are expected to directly use EGL calls in case more advanced\n",
        "# context management is required.\n",
        "WIDTH, HEIGHT = 800,600\n",
        "create_opengl_context((WIDTH, HEIGHT))\n",
        "    \n",
        "# OpenGL context is available here.\n",
        "\n",
        "print(gl.glGetString(gl.GL_VERSION))\n",
        "print(gl.glGetString(gl.GL_VENDOR)) \n",
        "#print(gl.glGetString(gl.GL_EXTENSIONS))"
      ],
      "metadata": {
        "id": "-dC6f5NBXcNu",
        "colab": {
          "base_uri": "https://localhost:8080/"
        },
        "outputId": "aa8d50af-35bf-439a-8072-b909669c07d1"
      },
      "execution_count": null,
      "outputs": [
        {
          "output_type": "stream",
          "name": "stdout",
          "text": [
            "b'4.6.0 NVIDIA 460.32.03'\n",
            "b'NVIDIA Corporation'\n"
          ]
        }
      ]
    },
    {
      "cell_type": "code",
      "source": [
        "# Let's render something!\n",
        "def midpointcircleHW(r, c1,c2):\n",
        "  d=1-r\n",
        "  x=0\n",
        "  y=r\n",
        "  circlePointsHM(x+c1,y+c2)\n",
        "  while (x<y):\n",
        "    if d<0:\n",
        "      d=d+2*x+3\n",
        "      x=x+1\n",
        "    else:\n",
        "      d=d+2*x-2*y+5\n",
        "      x=x+1\n",
        "      y=y-1\n",
        "    circlePointsHM(x+c1,y+c2)"
      ],
      "metadata": {
        "id": "ANi7Wf-hbL9Y"
      },
      "execution_count": null,
      "outputs": []
    },
    {
      "cell_type": "code",
      "source": [
        "def circlePointsHM(x,y):\n",
        "  gl.glPointSize(5)\n",
        "  gl.glColor3f(0,255,255)\n",
        "  x=x/100\n",
        "  y=y/100\n",
        "\n",
        "\n",
        "  gl.glBegin(gl.GL_POINTS)\n",
        "  gl.glVertex2f(x,y)\n",
        "  gl.glVertex2f(y,x)\n",
        "  gl.glVertex2f(y,-x)\n",
        "  gl.glVertex2f(x,-y)\n",
        "  gl.glVertex2f(-x,-y)\n",
        "  gl.glVertex2f(-y,-x)\n",
        "  gl.glVertex2f(-y,x)\n",
        "  gl.glVertex2f(-x,y)\n",
        "  gl.glEnd()"
      ],
      "metadata": {
        "id": "fr74pM4SnqYe"
      },
      "execution_count": null,
      "outputs": []
    },
    {
      "cell_type": "code",
      "source": [
        "gl.glClear(gl.GL_COLOR_BUFFER_BIT)\n",
        "gl.glPointSize(5)\n",
        "gl.glColor3d(0,255,255)\n",
        "\n",
        "def draw_points(x, y):\n",
        "    gl.glPointSize(5)\n",
        "    gl.glBegin(gl.GL_POINTS)\n",
        "    gl.glColor3f(0, 179, 0)\n",
        "    gl.glVertex2f(x, y)\n",
        "    gl.glEnd()\n",
        "\n",
        "def FindZone(x1, y1, x2, y2):\n",
        "    dx = (x2-x1)\n",
        "    dy =(y2-y1)\n",
        "    zone = None\n",
        "    if (abs(dx) >= abs(dy)):\n",
        "        if (dx >= 0 and dy >= 0):\n",
        "            zone = 0\n",
        "        if (dx < 0 and dy >= 0):\n",
        "            zone = 3\n",
        "        if (dx < 0 and dy < 0):\n",
        "            zone = 4\n",
        "        if (dx >= 0 and dy < 0):\n",
        "            zone = 7\n",
        "\n",
        "    elif (abs(dy) > abs(dx)):\n",
        "        if (dx >= 0 and dy >= 0):\n",
        "            zone = 1\n",
        "        if (dx < 0 and dy >= 0):\n",
        "            zone = 2\n",
        "        if (dx < 0 and dy < 0):\n",
        "            zone = 5\n",
        "        if (dx >= 0 and dy < 0):\n",
        "            zone = 6\n",
        "    return zone\n",
        "\n",
        "def convertZone0(x1, y1, zone):\n",
        "    if zone == 0:\n",
        "        pass\n",
        "    elif zone == 3:\n",
        "        x1,y1 = -x1,y1\n",
        "    elif zone == 4:\n",
        "        x1,y1 = -x1,-y1\n",
        "    elif zone == 7:\n",
        "        x1,y1 = x1,-y1\n",
        "    elif zone == 1:\n",
        "        x1,y1 = y1,x1\n",
        "    elif zone == 2:\n",
        "        x1,y1 = y1,-x1\n",
        "    elif zone == 5:\n",
        "        x1,y1 = -y1,-x1\n",
        "    elif zone == 6:\n",
        "        x1,y1 = -y1,x1\n",
        "\n",
        "    return x1, y1\n",
        "\n",
        "\n",
        "def org_zone(x1, y1, zone):\n",
        "    if zone == 0:\n",
        "        pass\n",
        "    elif zone == 3:\n",
        "        x1,y1 = -x1,y1\n",
        "    elif zone == 4:\n",
        "        x1,y1 = -x1,-y1\n",
        "    elif zone == 7:\n",
        "        x1,y1 = x1,-y1\n",
        "    elif zone == 1:\n",
        "        x1,y1 = y1,x1\n",
        "    elif zone == 2:\n",
        "        x1,y1 = -y1,x1\n",
        "    elif zone == 5:\n",
        "        x1,y1 = -y1,-x1\n",
        "    elif zone == 6:\n",
        "        x1,y1 = y1,-x1\n",
        "\n",
        "    return x1, y1\n",
        "\n",
        "\n",
        "def midPoint(x1, y1, x2, y2):\n",
        "    zone = FindZone(x1, y1, x2, y2)\n",
        "\n",
        "    draw_points(x1, y1)\n",
        "\n",
        "    x1, y1 = convertZone0(x1, y1, zone)\n",
        "    x2, y2 = convertZone0(x2, y2, zone)\n",
        "    dx = x2 - x1\n",
        "    dy = y2 - y1\n",
        "    d = dy - (dx / 2)\n",
        "    x = x1\n",
        "    y = y1\n",
        "\n",
        "    while (x < x2):\n",
        "        x = x + .01\n",
        "        if (d < 0):\n",
        "            d = d + dy\n",
        "        else:\n",
        "            d = d + (dy - dx)\n",
        "            y = y + .01\n",
        "        x_new, y_new = org_zone(x, y, zone)\n",
        "        draw_points(x_new, y_new)"
      ],
      "metadata": {
        "id": "aCLio3ZSDPFd"
      },
      "execution_count": null,
      "outputs": []
    },
    {
      "cell_type": "code",
      "source": [
        "def digit_square(length, width, x_val, y_val):\n",
        "\n",
        "    midPoint(x_val,y_val, x_val, y_val + length)\n",
        "    midPoint(x_val, y_val + length, x_val + width, y_val + length)\n",
        "    midPoint(x_val + width, y_val + length, x_val + width, y_val)\n",
        "    midPoint(x_val, y_val, x_val+length, y_val)"
      ],
      "metadata": {
        "id": "51vudlAkDla0"
      },
      "execution_count": null,
      "outputs": []
    },
    {
      "cell_type": "code",
      "source": [
        "n = int(input(\"Enter Your Value: \"))"
      ],
      "metadata": {
        "colab": {
          "base_uri": "https://localhost:8080/"
        },
        "id": "YMhy7VgHLZ74",
        "outputId": "616e9911-a1fc-4102-d926-acd591b0f6fb"
      },
      "execution_count": null,
      "outputs": [
        {
          "name": "stdout",
          "output_type": "stream",
          "text": [
            "Enter Your Value: 6\n"
          ]
        }
      ]
    },
    {
      "cell_type": "code",
      "source": [
        "x = 20\n",
        "a = 1\n",
        "while(a<6):\n",
        "  midpointcircleHW(x,0,0)\n",
        "  digit_square((x/100)*2,(x/100)*2,-(x/100),-(x/100))\n",
        "  a = a+1\n",
        "  x = x*2"
      ],
      "metadata": {
        "id": "y9xW1SFmnqSe"
      },
      "execution_count": null,
      "outputs": []
    },
    {
      "cell_type": "code",
      "source": [
        "img_buf = gl.glReadPixelsub(0, 0, WIDTH, HEIGHT, gl.GL_RGB, gl.GL_UNSIGNED_BYTE)\n",
        "img = np.frombuffer(img_buf, np.uint8).reshape(HEIGHT, WIDTH, 3)[::-1]\n",
        "show.image(img/255.0)"
      ],
      "metadata": {
        "colab": {
          "base_uri": "https://localhost:8080/",
          "height": 621
        },
        "id": "e6JCjyDMyE75",
        "outputId": "51c95779-9c08-4466-f745-7cf7fb93a1f2"
      },
      "execution_count": null,
      "outputs": [
        {
          "output_type": "display_data",
          "data": {
            "text/plain": [
              "<IPython.core.display.HTML object>"
            ],
            "text/html": [
              "<img src=\"data:image/PNG;base64,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\" style=\"image-rendering: pixelated; image-rendering: crisp-edges;\">"
            ]
          },
          "metadata": {}
        }
      ]
    }
  ]
}