{
  "nbformat": 4,
  "nbformat_minor": 0,
  "metadata": {
    "colab": {
      "provenance": []
    },
    "kernelspec": {
      "name": "python3",
      "display_name": "Python 3"
    },
    "language_info": {
      "name": "python"
    },
    "accelerator": "GPU"
  },
  "cells": [
    {
      "cell_type": "code",
      "source": [
        "!pip install tensorflow==1.15.0"
      ],
      "metadata": {
        "colab": {
          "base_uri": "https://localhost:8080/"
        },
        "id": "L3y0yGFYiWRI",
        "outputId": "d205a465-4822-44c0-ebe5-f6affb6292c8"
      },
      "execution_count": null,
      "outputs": [
        {
          "output_type": "stream",
          "name": "stdout",
          "text": [
            "Looking in indexes: https://pypi.org/simple, https://us-python.pkg.dev/colab-wheels/public/simple/\n",
            "Requirement already satisfied: tensorflow==1.15.0 in /usr/local/lib/python3.7/dist-packages (1.15.0)\n",
            "Requirement already satisfied: keras-preprocessing>=1.0.5 in /usr/local/lib/python3.7/dist-packages (from tensorflow==1.15.0) (1.1.2)\n",
            "Requirement already satisfied: termcolor>=1.1.0 in /usr/local/lib/python3.7/dist-packages (from tensorflow==1.15.0) (1.1.0)\n",
            "Requirement already satisfied: numpy<2.0,>=1.16.0 in /usr/local/lib/python3.7/dist-packages (from tensorflow==1.15.0) (1.21.6)\n",
            "Requirement already satisfied: wrapt>=1.11.1 in /usr/local/lib/python3.7/dist-packages (from tensorflow==1.15.0) (1.14.1)\n",
            "Requirement already satisfied: opt-einsum>=2.3.2 in /usr/local/lib/python3.7/dist-packages (from tensorflow==1.15.0) (3.3.0)\n",
            "Requirement already satisfied: wheel>=0.26 in /usr/local/lib/python3.7/dist-packages (from tensorflow==1.15.0) (0.37.1)\n",
            "Requirement already satisfied: google-pasta>=0.1.6 in /usr/local/lib/python3.7/dist-packages (from tensorflow==1.15.0) (0.2.0)\n",
            "Requirement already satisfied: astor>=0.6.0 in /usr/local/lib/python3.7/dist-packages (from tensorflow==1.15.0) (0.8.1)\n",
            "Requirement already satisfied: protobuf>=3.6.1 in /usr/local/lib/python3.7/dist-packages (from tensorflow==1.15.0) (3.17.3)\n",
            "Requirement already satisfied: six>=1.10.0 in /usr/local/lib/python3.7/dist-packages (from tensorflow==1.15.0) (1.15.0)\n",
            "Requirement already satisfied: tensorflow-estimator==1.15.1 in /usr/local/lib/python3.7/dist-packages (from tensorflow==1.15.0) (1.15.1)\n",
            "Requirement already satisfied: tensorboard<1.16.0,>=1.15.0 in /usr/local/lib/python3.7/dist-packages (from tensorflow==1.15.0) (1.15.0)\n",
            "Requirement already satisfied: absl-py>=0.7.0 in /usr/local/lib/python3.7/dist-packages (from tensorflow==1.15.0) (1.0.0)\n",
            "Requirement already satisfied: grpcio>=1.8.6 in /usr/local/lib/python3.7/dist-packages (from tensorflow==1.15.0) (1.46.3)\n",
            "Requirement already satisfied: keras-applications>=1.0.8 in /usr/local/lib/python3.7/dist-packages (from tensorflow==1.15.0) (1.0.8)\n",
            "Requirement already satisfied: gast==0.2.2 in /usr/local/lib/python3.7/dist-packages (from tensorflow==1.15.0) (0.2.2)\n",
            "Requirement already satisfied: h5py in /usr/local/lib/python3.7/dist-packages (from keras-applications>=1.0.8->tensorflow==1.15.0) (3.1.0)\n",
            "Requirement already satisfied: setuptools>=41.0.0 in /usr/local/lib/python3.7/dist-packages (from tensorboard<1.16.0,>=1.15.0->tensorflow==1.15.0) (57.4.0)\n",
            "Requirement already satisfied: werkzeug>=0.11.15 in /usr/local/lib/python3.7/dist-packages (from tensorboard<1.16.0,>=1.15.0->tensorflow==1.15.0) (1.0.1)\n",
            "Requirement already satisfied: markdown>=2.6.8 in /usr/local/lib/python3.7/dist-packages (from tensorboard<1.16.0,>=1.15.0->tensorflow==1.15.0) (3.3.7)\n",
            "Requirement already satisfied: importlib-metadata>=4.4 in /usr/local/lib/python3.7/dist-packages (from markdown>=2.6.8->tensorboard<1.16.0,>=1.15.0->tensorflow==1.15.0) (4.11.4)\n",
            "Requirement already satisfied: zipp>=0.5 in /usr/local/lib/python3.7/dist-packages (from importlib-metadata>=4.4->markdown>=2.6.8->tensorboard<1.16.0,>=1.15.0->tensorflow==1.15.0) (3.8.0)\n",
            "Requirement already satisfied: typing-extensions>=3.6.4 in /usr/local/lib/python3.7/dist-packages (from importlib-metadata>=4.4->markdown>=2.6.8->tensorboard<1.16.0,>=1.15.0->tensorflow==1.15.0) (4.2.0)\n",
            "Requirement already satisfied: cached-property in /usr/local/lib/python3.7/dist-packages (from h5py->keras-applications>=1.0.8->tensorflow==1.15.0) (1.5.2)\n"
          ]
        }
      ]
    },
    {
      "cell_type": "code",
      "source": [
        "!pip install -q lucid>=0.2.3\n",
        "!pip install -q moviepy"
      ],
      "metadata": {
        "id": "YXv13t34XX7o"
      },
      "execution_count": null,
      "outputs": []
    },
    {
      "cell_type": "code",
      "source": [],
      "metadata": {
        "id": "13SiRoA3i6rD"
      },
      "execution_count": null,
      "outputs": []
    },
    {
      "cell_type": "code",
      "source": [
        "import numpy as np\n",
        "import json\n",
        "import moviepy.editor as mvp\n",
        "from google.colab import files\n",
        "import tensorflow.compat.v1.gfile as gfile\n",
        "import lucid.misc.io.showing as show"
      ],
      "metadata": {
        "id": "MuQfUYd6XYDH"
      },
      "execution_count": null,
      "outputs": []
    },
    {
      "cell_type": "code",
      "source": [],
      "metadata": {
        "id": "zixyYrUCXcKu"
      },
      "execution_count": null,
      "outputs": []
    },
    {
      "cell_type": "code",
      "source": [
        "from lucid.misc.gl.glcontext import create_opengl_context\n",
        "\n",
        "# Now it's safe to import OpenGL and EGL functions\n",
        "import OpenGL.GL as gl\n",
        "from OpenGL.GLU import *\n",
        "\n",
        "# create_opengl_context() creates GL context that is attached to an\n",
        "# offscreen surface of specified size. Note that rendering to buffers\n",
        "# of different size and format is still possible with OpenGL Framebuffers.\n",
        "#\n",
        "# Users are expected to directly use EGL calls in case more advanced\n",
        "# context management is required.\n",
        "WIDTH, HEIGHT = 400,400\n",
        "create_opengl_context((WIDTH, HEIGHT))\n",
        "    \n",
        "# OpenGL context is available here.\n",
        "\n",
        "print(gl.glGetString(gl.GL_VERSION))\n",
        "print(gl.glGetString(gl.GL_VENDOR)) \n",
        "#print(gl.glGetString(gl.GL_EXTENSIONS))"
      ],
      "metadata": {
        "id": "-dC6f5NBXcNu",
        "colab": {
          "base_uri": "https://localhost:8080/"
        },
        "outputId": "ee0fe552-a485-4eaf-a559-45439e170a75"
      },
      "execution_count": null,
      "outputs": [
        {
          "output_type": "stream",
          "name": "stdout",
          "text": [
            "b'4.6.0 NVIDIA 460.32.03'\n",
            "b'NVIDIA Corporation'\n"
          ]
        }
      ]
    },
    {
      "cell_type": "code",
      "source": [
        "# Let's render something!\n",
        "import random\n",
        "\n",
        "gl.glClear(gl.GL_COLOR_BUFFER_BIT)\n",
        "gl.glPointSize(3)\n",
        "gl.glBegin(gl.GL_POINTS)\n",
        "for i in range(10):\n",
        "  gl.glVertex2f(random.random(), random.random())\n",
        "  gl.glVertex2f(-random.random(), -random.random())\n",
        "  gl.glVertex2f(-random.random(), random.random())\n",
        "  gl.glVertex2f(random.random(), -random.random())\n",
        "\n",
        "\n",
        "\n",
        "gl.glEnd()\n",
        "\n",
        "\n"
      ],
      "metadata": {
        "id": "ANi7Wf-hbL9Y"
      },
      "execution_count": null,
      "outputs": []
    },
    {
      "cell_type": "code",
      "source": [
        "img_buf = gl.glReadPixelsub(0, 0, WIDTH, HEIGHT, gl.GL_RGB, gl.GL_UNSIGNED_BYTE)\n",
        "img = np.frombuffer(img_buf, np.uint8).reshape(HEIGHT, WIDTH, 3)[::-1]\n",
        "show.image(img/255.0)"
      ],
      "metadata": {
        "colab": {
          "base_uri": "https://localhost:8080/",
          "height": 421
        },
        "id": "e6JCjyDMyE75",
        "outputId": "ac0ab238-b334-472a-9e0e-c320ece745b7"
      },
      "execution_count": null,
      "outputs": [
        {
          "output_type": "display_data",
          "data": {
            "text/plain": [
              "<IPython.core.display.HTML object>"
            ],
            "text/html": [
              "<img src=\"data:image/PNG;base64,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\" style=\"image-rendering: pixelated; image-rendering: crisp-edges;\">"
            ]
          },
          "metadata": {}
        }
      ]
    },
    {
      "cell_type": "code",
      "source": [
        "# Let's render something!\n",
        "import random\n",
        "\n",
        "gl.glClear(gl.GL_COLOR_BUFFER_BIT)\n",
        "gl.glPointSize(5)\n",
        "\n",
        "gl.glBegin(gl.GL_TRIANGLES)\n",
        "gl.glVertex2f(.2,.2)\n",
        "gl.glVertex2f(.4, .4)\n",
        "gl.glVertex2f(.6, .2)\n",
        "gl.glEnd()\n",
        "\n",
        "gl.glBegin(gl.GL_LINES)\n",
        "gl.glVertex2f(.2,.2)\n",
        "gl.glVertex2f(.2,-.2)\n",
        "\n",
        "gl.glVertex2f(.6, .2)\n",
        "gl.glVertex2f(.6, -.2)\n",
        "\n",
        "gl.glVertex2f(.2,-.2)\n",
        "gl.glVertex2f(.6, -.2)\n",
        "\n",
        "#gj\n",
        "gl.glVertex2f(.25,.15)\n",
        "gl.glVertex2f(.25,.1)\n",
        "#ge\n",
        "gl.glVertex2f(.25,.15)\n",
        "gl.glVertex2f(.35,.15)\n",
        "#ek\n",
        "gl.glVertex2f(.35,.15)\n",
        "gl.glVertex2f(.35,.1)\n",
        "#kj\n",
        "gl.glVertex2f(.35,.1)\n",
        "gl.glVertex2f(.25,.1)\n",
        "\n",
        "#hi\n",
        "gl.glVertex2f(.45,.15)\n",
        "gl.glVertex2f(.55,.15)\n",
        "\n",
        "#lm\n",
        "gl.glVertex2f(.45,.1)\n",
        "gl.glVertex2f(.55,.1)\n",
        "\n",
        "#im\n",
        "gl.glVertex2f(.55,.15)\n",
        "gl.glVertex2f(.55,.1)\n",
        "\n",
        "#hl\n",
        "gl.glVertex2f(.45,.15)\n",
        "gl.glVertex2f(.45,.1)\n",
        "\n",
        "#NQ\n",
        "gl.glVertex2f(.35,-.05)\n",
        "gl.glVertex2f(.45,-.05)\n",
        "\n",
        "#NQ\n",
        "gl.glVertex2f(.35,-.05)\n",
        "gl.glVertex2f(.45,-.05)\n",
        "\n",
        "#Qp\n",
        "gl.glVertex2f(.45,-.05)\n",
        "gl.glVertex2f(.45,-.2)\n",
        "\n",
        "#NO\n",
        "gl.glVertex2f(.35,-.05)\n",
        "gl.glVertex2f(.35,-.2)\n",
        "\n",
        "gl.glEnd()\n",
        "\n",
        "gl.glBegin(gl.GL_POINTS)\n",
        "gl.glVertex2f(.37,-.129)\n",
        "gl.glEnd()\n"
      ],
      "metadata": {
        "id": "JDWRYJlOcAtX"
      },
      "execution_count": null,
      "outputs": []
    },
    {
      "cell_type": "code",
      "source": [
        "img_buf = gl.glReadPixelsub(0, 0, WIDTH, HEIGHT, gl.GL_RGB, gl.GL_UNSIGNED_BYTE)\n",
        "img = np.frombuffer(img_buf, np.uint8).reshape(HEIGHT, WIDTH, 3)[::-1]\n",
        "show.image(img/255.0)"
      ],
      "metadata": {
        "colab": {
          "base_uri": "https://localhost:8080/",
          "height": 421
        },
        "id": "SZulMXZ1cCwW",
        "outputId": "14a33ce2-32ae-49f0-deac-1f3ead92ed52"
      },
      "execution_count": null,
      "outputs": [
        {
          "output_type": "display_data",
          "data": {
            "text/plain": [
              "<IPython.core.display.HTML object>"
            ],
            "text/html": [
              "<img src=\"data:image/PNG;base64,iVBORw0KGgoAAAANSUhEUgAAAZAAAAGQCAIAAAAP3aGbAAAENUlEQVR4nO3cy27bQBBFQTHw//8ys4iBOIos88253VV7Qz2LPiAFjR8PAAAAAAAAAAAAAAAAAAAAAAAAAAAAAAAAAAAAAAAAAAAAAAAAAAAAAAAAAAAAAAAAAAAAAAAAAAAAAAAAAAAAAAAAAAAAAAAAAAAAAAAAAAAAAAAAAAAAAAAAAAAAAAAAAAAAAAAAAAAAAAAAAAAAAAAAAAAAAAAAAAAAAAAAAAAAAAAAAAAAAAAAAADqmuf57hG6+HX3AJDtT6006xqCBdt97ZRmXUCwYKP/C6VZZxMs2OK7NmnWqQQLVntfJc06j2DBOkt6pFknESxYYXmJNOsMggVLrW2QZh1OsGCRbfXRrGMJFvxsT3c060CCBT/YXxzNOopgwTtHtUazDiFY8K1jK6NZ+wkWvHZGXzRrJ8GCF84ri2btIVjw7OymaNZmggX/uKYmmrWNYMFfV3ZEszYQLPh0fUE0ay3BgsfjvnZo1iqCBTdXQ7OWEyy6G6EXI8wQQbBobZxSjDPJyASLvkZrxGjzDEiwaGrMOow51TgEi45G7sLIs91OsGhn/CKMP+FdBIteUlqQMufFBItGsiqQNe01BIsuEvc/ceZTCRYt5G5+7uRnECzqS9/59PkPJFgUV2Pba5xiP8Giskp7XuksmwkWZdXb8HonWkuwqKnqblc910KCRUG1t7r26d4TLKrpsM8dzviSYFFKn03uc1KoqdsOdzvvwxMWEESwgBiCBcQQLCCGYAExBAuIIVhADMECYggWEOPj7gHgIjt/Fz5NU9bnliRYNBIXnYaXb97zSgjEECwghmABMQQLiCFYQAzBAmIIFhBDsIAYfjhKF9M03fI7zLs+Fxhaty50O+/DKyEQRLCAGIIFxBAsIIZgATEEC4ghWEAMwQJiCBYQQ7CAGIIFxBAsIIZgATEEC4ghWEAMwQJiCBYQQ7CAGIIFxBAsIIZgATEEC4ghWEAMwQJiCBYQQ7CAGIIFxBAsIMbH3QNAgHme9/z5NE1HTdKcYMEim6OzM3Z85ZUQiCFYQAzBAmIIFhBDsIAYggXEECwghmABMQQLiCFYQAzBAmK4SwgrPF0MdKv5Yp6wgBiCBcQQLCCGYAExfOkOK/iW/V6esIAYggXEECwghmABMQQLiCFYQAzBAmIIFhBDsIAYggXEECwghotRlPL0D/bKc7cRAAAAAAAAAAAAAAAAAAAAAAAAAAAAAAAAAAAAAAAAAAAAAAAAAAAAAAAAAAAAAAAAAAAAAAAAAAAAAAAAAAAAAAAAAAAAAAAAAAAAAAAAAAAAAAAAAAAAAAAAAAAAAAAAAAAAAAAAAAAAAAAAAAAAAAAAAAAAAAAAAAAAAAAAAAAAAAAAAAAAAAAAAAAAAAAAAAAAAAAAAAAAAAAAAAAAAAAAAAAAAAAAAAAAAAAAAAAAAAAAAAAAAOCl39jvFxPcNVrYAAAAAElFTkSuQmCC\" style=\"image-rendering: pixelated; image-rendering: crisp-edges;\">"
            ]
          },
          "metadata": {}
        }
      ]
    }
  ]
}