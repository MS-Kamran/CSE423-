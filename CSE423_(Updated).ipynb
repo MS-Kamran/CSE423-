{
  "nbformat": 4,
  "nbformat_minor": 0,
  "metadata": {
    "colab": {
      "provenance": []
    },
    "kernelspec": {
      "name": "python3",
      "display_name": "Python 3"
    },
    "language_info": {
      "name": "python"
    },
    "accelerator": "GPU"
  },
  "cells": [
    {
      "cell_type": "code",
      "source": [
        "!pip install tensorflow==1.15.0"
      ],
      "metadata": {
        "id": "L3y0yGFYiWRI"
      },
      "execution_count": null,
      "outputs": []
    },
    {
      "cell_type": "code",
      "source": [
        "!pip install -q lucid>=0.2.3\n",
        "!pip install -q moviepy"
      ],
      "metadata": {
        "id": "YXv13t34XX7o"
      },
      "execution_count": null,
      "outputs": []
    },
    {
      "cell_type": "code",
      "source": [
        "!pip install imageio==2.4.1"
      ],
      "metadata": {
        "id": "Eg1iOrd_FyrX"
      },
      "execution_count": null,
      "outputs": []
    },
    {
      "cell_type": "code",
      "source": [
        "import numpy as np\n",
        "import json\n",
        "import moviepy.editor as mvp\n",
        "from google.colab import files\n",
        "import tensorflow.compat.v1.gfile as gfile\n",
        "import lucid.misc.io.showing as show"
      ],
      "metadata": {
        "id": "MuQfUYd6XYDH"
      },
      "execution_count": null,
      "outputs": []
    },
    {
      "cell_type": "code",
      "source": [
        "from lucid.misc.gl.glcontext import create_opengl_context\n",
        "\n",
        "# Now it's safe to import OpenGL and EGL functions\n",
        "import OpenGL.GL as gl\n",
        "from OpenGL.GLU import *\n",
        "\n",
        "# create_opengl_context() creates GL context that is attached to an\n",
        "# offscreen surface of specified size. Note that rendering to buffers\n",
        "# of different size and format is still possible with OpenGL Framebuffers.\n",
        "#\n",
        "# Users are expected to directly use EGL calls in case more advanced\n",
        "# context management is required.\n",
        "WIDTH, HEIGHT = 800,600\n",
        "create_opengl_context((WIDTH, HEIGHT))\n",
        "    \n",
        "# OpenGL context is available here.\n",
        "\n",
        "print(gl.glGetString(gl.GL_VERSION))\n",
        "print(gl.glGetString(gl.GL_VENDOR)) \n",
        "#print(gl.glGetString(gl.GL_EXTENSIONS))"
      ],
      "metadata": {
        "id": "-dC6f5NBXcNu"
      },
      "execution_count": null,
      "outputs": []
    },
    {
      "cell_type": "code",
      "source": [
        "# Let's render something!\n",
        "gl.glClear(gl.GL_COLOR_BUFFER_BIT)\n",
        "gl.glPointSize(5)\n",
        "gl.glColor3d(0,255,255)\n",
        "\n",
        "def draw_points(x, y):\n",
        "    gl.glPointSize(2)\n",
        "    gl.glBegin(gl.GL_POINTS)\n",
        "    gl.glColor3f(0, 179, 0)\n",
        "    gl.glVertex2f(x, y)\n",
        "    gl.glEnd()\n",
        "\n",
        "\n",
        "def convertZone0(x1, y1, zone):\n",
        "    if zone == 0:\n",
        "        pass\n",
        "    elif zone == 3:\n",
        "        x1,y1 = -x1,y1\n",
        "    elif zone == 4:\n",
        "        x1,y1 = -x1,-y1\n",
        "    elif zone == 7:\n",
        "        x1,y1 = x1,-y1\n",
        "    elif zone == 1:\n",
        "        x1,y1 = y1,x1\n",
        "    elif zone == 2:\n",
        "        x1,y1 = y1,-x1\n",
        "    elif zone == 5:\n",
        "        x1,y1 = -y1,-x1\n",
        "    elif zone == 6:\n",
        "        x1,y1 = -y1,x1\n",
        "\n",
        "    return x1, y1\n",
        "\n",
        "\n",
        "def org_zone(x1, y1, zone):\n",
        "    if zone == 0:\n",
        "        pass\n",
        "    elif zone == 3:\n",
        "        x1,y1 = -x1,y1\n",
        "    elif zone == 4:\n",
        "        x1,y1 = -x1,-y1\n",
        "    elif zone == 7:\n",
        "        x1,y1 = x1,-y1\n",
        "    elif zone == 1:\n",
        "        x1,y1 = y1,x1\n",
        "    elif zone == 2:\n",
        "        x1,y1 = -y1,x1\n",
        "    elif zone == 5:\n",
        "        x1,y1 = -y1,-x1\n",
        "    elif zone == 6:\n",
        "        x1,y1 = y1,-x1\n",
        "\n",
        "    return x1, y1\n",
        "\n",
        "\n",
        "def midPoint(x1, y1, x2, y2):\n",
        "    zone = FindZone(x1, y1, x2, y2)\n",
        "\n",
        "    draw_points(x1, y1)\n",
        "\n",
        "    x1, y1 = convertZone0(x1, y1, zone)\n",
        "    x2, y2 = convertZone0(x2, y2, zone)\n",
        "    dx = x2 - x1\n",
        "    dy = y2 - y1\n",
        "    d = dy - (dx / 2)\n",
        "    x = x1\n",
        "    y = y1\n",
        "\n",
        "    while (x < x2):\n",
        "        x = x + .01\n",
        "        if (d < 0):\n",
        "            d = d + dy\n",
        "        else:\n",
        "            d = d + (dy - dx)\n",
        "            y = y + .01\n",
        "        x_new, y_new = org_zone(x, y, zone)\n",
        "        draw_points(x_new, y_new)\n",
        "\n",
        "\n",
        "def FindZone(x1, y1, x2, y2):\n",
        "    dx = (x2-x1)\n",
        "    dy =(y2-y1)\n",
        "    zone = None\n",
        "    if (abs(dx) >= abs(dy)):\n",
        "        if (dx >= 0 and dy >= 0):\n",
        "            zone = 0\n",
        "        if (dx < 0 and dy >= 0):\n",
        "            zone = 3\n",
        "        if (dx < 0 and dy < 0):\n",
        "            zone = 4\n",
        "        if (dx >= 0 and dy < 0):\n",
        "            zone = 7\n",
        "\n",
        "    elif (abs(dy) > abs(dx)):\n",
        "        if (dx >= 0 and dy >= 0):\n",
        "            zone = 1\n",
        "        if (dx < 0 and dy >= 0):\n",
        "            zone = 2\n",
        "        if (dx < 0 and dy < 0):\n",
        "            zone = 5\n",
        "        if (dx >= 0 and dy < 0):\n",
        "            zone = 6\n",
        "    return zone\n",
        "\n",
        "\n",
        "\n",
        "    "
      ],
      "metadata": {
        "id": "ANi7Wf-hbL9Y"
      },
      "execution_count": null,
      "outputs": []
    },
    {
      "cell_type": "code",
      "source": [
        "def digit_eight(length, width, x_val, y_val):\n",
        "\n",
        "    midPoint(x_val,y_val, x_val, y_val + length)\n",
        "    midPoint(x_val, y_val + length, x_val + width, y_val + length)\n",
        "    midPoint(x_val + width, y_val + length, x_val + width, y_val)\n",
        "    #midPoint(x_val, y_val, x_val, y_val - length)\n",
        "    #midPoint(x_val, y_val - length, x_val + width, y_val - length)\n",
        "    #midPoint(x_val + width, y_val - length, x_val + width, y_val)\n",
        "    midPoint(x_val, y_val, x_val+length, y_val)"
      ],
      "metadata": {
        "id": "fr74pM4SnqYe"
      },
      "execution_count": null,
      "outputs": []
    },
    {
      "cell_type": "code",
      "source": [
        "# Let's render something!\n",
        "\n",
        "\n",
        "def midpointcircleHW(r, c1,c2):\n",
        "  d=1-r\n",
        "  x=0\n",
        "  y=r\n",
        "  circlePointsHM(x+c1,y+c2)\n",
        "  while (x<y):\n",
        "    if d<0:\n",
        "      d=d+2*x+3\n",
        "      x=x+1\n",
        "    else:\n",
        "      d=d+2*x-2*y+5\n",
        "      x=x+1\n",
        "      y=y-1\n",
        "    circlePointsHM(x+c1,y+c2)"
      ],
      "metadata": {
        "id": "1YD7eDuZI5ws"
      },
      "execution_count": null,
      "outputs": []
    },
    {
      "cell_type": "code",
      "source": [
        "def circlePointsHM(x,y):\n",
        "  gl.glPointSize(5)\n",
        "  gl.glColor3f(0,255,255)\n",
        "  x=x/100\n",
        "  y=y/100\n",
        "\n",
        "\n",
        "  gl.glBegin(gl.GL_POINTS)\n",
        "  gl.glVertex2f(x,y)\n",
        "  gl.glVertex2f(y,x)\n",
        "  gl.glVertex2f(y,-x)\n",
        "  gl.glVertex2f(x,-y)\n",
        "  gl.glVertex2f(-x,-y)\n",
        "  gl.glVertex2f(-y,-x)\n",
        "  gl.glVertex2f(-y,x)\n",
        "  gl.glVertex2f(-x,y)\n",
        "  gl.glEnd()"
      ],
      "metadata": {
        "id": "gkls0P_8JEBc"
      },
      "execution_count": null,
      "outputs": []
    },
    {
      "cell_type": "code",
      "source": [
        "x=.7\n",
        "a= 1\n",
        "while(a<10):\n",
        "  midpointcircleHW(x,0,0)\n",
        "  digit_eight(x*2,x*2,-x,-x)\n",
        "  a=a+.1\n",
        "  x=x*2"
      ],
      "metadata": {
        "id": "rTCMTZ4eJEHA"
      },
      "execution_count": null,
      "outputs": []
    },
    {
      "cell_type": "code",
      "source": [
        "img_buf = gl.glReadPixelsub(0, 0, WIDTH, HEIGHT, gl.GL_RGB, gl.GL_UNSIGNED_BYTE)\n",
        "img = np.frombuffer(img_buf, np.uint8).reshape(HEIGHT, WIDTH, 3)[::-1]\n",
        "show.image(img/255.0)"
      ],
      "metadata": {
        "id": "NpyFH4dSHca7"
      },
      "execution_count": null,
      "outputs": []
    }
  ]
}